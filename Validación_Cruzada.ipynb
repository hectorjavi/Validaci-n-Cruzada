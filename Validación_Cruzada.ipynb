{
  "nbformat": 4,
  "nbformat_minor": 0,
  "metadata": {
    "colab": {
      "provenance": [],
      "collapsed_sections": [
        "CLbBAX1cH-ai",
        "E-cfUjF6IVie",
        "woaeTAjjJF7I",
        "mOvoU1dSJ_Ar"
      ],
      "authorship_tag": "ABX9TyPHNpW5Ey145LfHGXNHLT0b",
      "include_colab_link": true
    },
    "kernelspec": {
      "name": "python3",
      "display_name": "Python 3"
    },
    "language_info": {
      "name": "python"
    }
  },
  "cells": [
    {
      "cell_type": "markdown",
      "metadata": {
        "id": "view-in-github",
        "colab_type": "text"
      },
      "source": [
        "<a href=\"https://colab.research.google.com/github/hectorjavi/Validaci-n-Cruzada/blob/main/Validaci%C3%B3n_Cruzada.ipynb\" target=\"_parent\"><img src=\"https://colab.research.google.com/assets/colab-badge.svg\" alt=\"Open In Colab\"/></a>"
      ]
    },
    {
      "cell_type": "markdown",
      "source": [
        "## Validación cruzada K-fold"
      ],
      "metadata": {
        "id": "CLbBAX1cH-ai"
      }
    },
    {
      "cell_type": "markdown",
      "source": [
        "\n",
        "\n",
        "\n",
        "\n",
        "\n",
        "\n",
        "*   Se utiliza el conjunto de datos Iris.\n",
        "*   Se crea un clasificador SVM con un kernel lineal.\n",
        "*   Se especifica el número de divisiones para la validación cruzada (n_splits=5), pero puedes ajustar este valor según tus necesidades.\n",
        "*   Se realiza la validación cruzada y se obtienen las puntuaciones de precisión para cada iteración.\n",
        "*   Se imprime la precisión para cada iteración y el promedio de todas las iteraciones.\n",
        "\n",
        "\n",
        "\n",
        "\n",
        "\n",
        "\n"
      ],
      "metadata": {
        "id": "qOOlBWJfIh4H"
      }
    },
    {
      "cell_type": "code",
      "source": [
        "from sklearn.model_selection import KFold\n",
        "from sklearn.model_selection import cross_val_score\n",
        "from sklearn import datasets\n",
        "from sklearn import svm\n",
        "\n",
        "# Cargar un conjunto de datos de ejemplo (iris dataset en este caso)\n",
        "iris = datasets.load_iris()\n",
        "X = iris.data\n",
        "y = iris.target\n",
        "\n",
        "# Crear un clasificador SVM (Support Vector Machine)\n",
        "clf = svm.SVC(kernel='linear', C=1)\n",
        "\n",
        "# Especificar el número de divisiones para la validación cruzada (K = 5 en este caso)\n",
        "k_fold = KFold(n_splits=5, shuffle=True, random_state=42)\n",
        "\n",
        "# Realizar validación cruzada y obtener los resultados de la métrica deseada (precisión en este caso)\n",
        "cross_val_results = cross_val_score(clf, X, y, cv=k_fold, scoring='accuracy')\n",
        "\n",
        "# Imprimir los resultados de cada iteración y el resultado promedio\n",
        "for i, acc in enumerate(cross_val_results, 1):\n",
        "    print(f\"Iteración {i}: {acc:.4f}\")\n",
        "\n",
        "print(f\"\\nAccuracy promedio: {cross_val_results.mean():.4f}\")\n"
      ],
      "metadata": {
        "colab": {
          "base_uri": "https://localhost:8080/"
        },
        "id": "tGzS8fFBD6SA",
        "outputId": "6ba82f10-4d5c-4d0b-cce4-56233aa2d6b7"
      },
      "execution_count": 5,
      "outputs": [
        {
          "output_type": "stream",
          "name": "stdout",
          "text": [
            "Iteración 1: 1.0000\n",
            "Iteración 2: 1.0000\n",
            "Iteración 3: 0.9667\n",
            "Iteración 4: 0.9333\n",
            "Iteración 5: 0.9667\n",
            "\n",
            "Accuracy promedio: 0.9733\n"
          ]
        }
      ]
    },
    {
      "cell_type": "markdown",
      "source": [
        "## Validación cruzada K-fold estratificada"
      ],
      "metadata": {
        "id": "E-cfUjF6IVie"
      }
    },
    {
      "cell_type": "markdown",
      "source": [
        "*   Cargar el conjunto de datos: Utilizamos el conjunto de datos Iris como ejemplo. Puedes reemplazarlo con tu propio conjunto de datos.\n",
        "*   Crear el clasificador: En este ejemplo, utilizamos un clasificador SVM con un kernel lineal. Puedes cambiar el clasificador según tus necesidades.\n",
        "*   Especificar la estrategia de validación cruzada estratificada: Creamos un objeto StratifiedKFold con 5 divisiones (n_splits=5). Asegura la estratificación de las clases durante la división de los datos.\n",
        "*   Realizar la validación cruzada: Utilizamos cross_val_score para realizar la validación cruzada con el clasificador, los datos y la estrategia de validación cruzada especificados.\n",
        "*   Imprimir los resultados: Iteramos sobre los resultados de cada iteración y mostramos la precisión de cada fold. Imprimimos la precisión promedio.\n",
        "\n",
        "Ajusta el clasificador, el conjunto de datos y la métrica de evaluación según tus necesidades específicas. La validación cruzada estratificada es útil cuando trabajas con conjuntos de datos desequilibrados."
      ],
      "metadata": {
        "id": "0nWZZ8WnLCKW"
      }
    },
    {
      "cell_type": "code",
      "source": [
        "from sklearn.model_selection import StratifiedKFold\n",
        "from sklearn.model_selection import cross_val_score\n",
        "from sklearn import datasets\n",
        "from sklearn import svm\n",
        "\n",
        "# Cargar un conjunto de datos de ejemplo (iris dataset en este caso)\n",
        "iris = datasets.load_iris()\n",
        "X = iris.data\n",
        "y = iris.target\n",
        "\n",
        "# Crear un clasificador SVM (Support Vector Machine)\n",
        "clf = svm.SVC(kernel='linear', C=1)\n",
        "\n",
        "# Especificar el número de divisiones para la validación cruzada estratificada (K = 5 en este caso)\n",
        "stratified_k_fold = StratifiedKFold(n_splits=5, shuffle=True, random_state=42)\n",
        "\n",
        "# Realizar validación cruzada estratificada y obtener los resultados de la métrica deseada (precisión en este caso)\n",
        "cross_val_results = cross_val_score(clf, X, y, cv=stratified_k_fold, scoring='accuracy')\n",
        "\n",
        "# Imprimir los resultados de cada iteración y el resultado promedio\n",
        "for i, acc in enumerate(cross_val_results, 1):\n",
        "    print(f\"Iteración {i}: {acc:.4f}\")\n",
        "\n",
        "print(f\"\\nAccuracy promedio: {cross_val_results.mean():.4f}\")\n"
      ],
      "metadata": {
        "colab": {
          "base_uri": "https://localhost:8080/"
        },
        "id": "QiUlpeRwIWMT",
        "outputId": "2c615a80-fa8f-4b06-98e6-f42bcfa9b7fd"
      },
      "execution_count": 9,
      "outputs": [
        {
          "output_type": "stream",
          "name": "stdout",
          "text": [
            "Iteración 1: 1.0000\n",
            "Iteración 2: 1.0000\n",
            "Iteración 3: 0.9333\n",
            "Iteración 4: 1.0000\n",
            "Iteración 5: 1.0000\n",
            "\n",
            "Accuracy promedio: 0.9867\n"
          ]
        }
      ]
    },
    {
      "cell_type": "code",
      "source": [],
      "metadata": {
        "id": "J2CjvlUCJDOI"
      },
      "execution_count": null,
      "outputs": []
    },
    {
      "cell_type": "markdown",
      "source": [
        "## Validación cruzada leave-one-out"
      ],
      "metadata": {
        "id": "woaeTAjjJF7I"
      }
    },
    {
      "cell_type": "markdown",
      "source": [
        "\n",
        "La validación cruzada Leave-One-Out (LOO) es un caso especial de validación cruzada K-fold donde se utiliza un solo dato como conjunto de prueba y el resto se utiliza como conjunto de entrenamiento. Aquí tienes un ejemplo de cómo realizar la validación cruzada Leave-One-Out en Python con scikit-learn:\n",
        "\n",
        "En este ejemplo:\n",
        "\n",
        "*   Se utiliza el conjunto de datos Iris.\n",
        "*   Se crea un clasificador SVM con un kernel lineal.\n",
        "*   Se especifica LeaveOneOut() como la estrategia de validación cruzada.\n",
        "*   Se realiza la validación cruzada Leave-One-Out y se obtienen las puntuaciones de precisión para cada iteración.\n",
        "*   Se imprime la precisión para cada iteración y el promedio de todas las iteraciones.\n",
        "\n",
        "Ten en cuenta que la validación cruzada Leave-One-Out puede ser computacionalmente costosa para conjuntos de datos grandes, ya que implica entrenar y evaluar el modelo para cada punto de datos individualmente.\n",
        "\n",
        "\n",
        "\n",
        "\n",
        "\n"
      ],
      "metadata": {
        "id": "A9JrGvKzJf4J"
      }
    },
    {
      "cell_type": "code",
      "source": [
        "from sklearn.model_selection import LeaveOneOut\n",
        "from sklearn.model_selection import cross_val_score\n",
        "from sklearn import datasets\n",
        "from sklearn import svm\n",
        "\n",
        "# Cargar un conjunto de datos de ejemplo (iris dataset en este caso)\n",
        "iris = datasets.load_iris()\n",
        "X = iris.data\n",
        "y = iris.target\n",
        "\n",
        "# Crear un clasificador SVM (Support Vector Machine)\n",
        "clf = svm.SVC(kernel='linear', C=1)\n",
        "\n",
        "# Especificar la estrategia de validación cruzada Leave-One-Out\n",
        "leave_one_out = LeaveOneOut()\n",
        "\n",
        "# Realizar validación cruzada Leave-One-Out y obtener los resultados de la métrica deseada (precisión en este caso)\n",
        "cross_val_results = cross_val_score(clf, X, y, cv=leave_one_out, scoring='accuracy')\n",
        "\n",
        "# Imprimir los resultados de cada iteración y el resultado promedio\n",
        "for i, acc in enumerate(cross_val_results, 1):\n",
        "    print(f\"Iteración {i}: {acc:.4f}\")\n",
        "\n",
        "print(f\"\\nAccuracy promedio: {cross_val_results.mean():.4f}\")\n"
      ],
      "metadata": {
        "id": "Towxygt5JJZH"
      },
      "execution_count": null,
      "outputs": []
    },
    {
      "cell_type": "code",
      "source": [],
      "metadata": {
        "id": "s1nuz9exJW-Q"
      },
      "execution_count": null,
      "outputs": []
    },
    {
      "cell_type": "markdown",
      "source": [
        "## Validación cruzada K-fold repetida"
      ],
      "metadata": {
        "id": "mOvoU1dSJ_Ar"
      }
    },
    {
      "cell_type": "markdown",
      "source": [
        "La validación cruzada K-fold repetida es una extensión de la validación cruzada K-fold, donde se repite el proceso de K-fold varias veces con diferentes particiones aleatorias de los datos. Esto ayuda a obtener una estimación más robusta del rendimiento del modelo. Aquí tienes un ejemplo de cómo realizar la validación cruzada K-fold repetida en Python con scikit-learn:\n",
        "\n",
        "En este ejemplo:\n",
        "\n",
        "*   Se utiliza el conjunto de datos Iris.\n",
        "*   Se crea un clasificador SVM con un kernel lineal.\n",
        "*   Se especifica RepeatedKFold como la estrategia de validación cruzada con 5 divisiones repetidas 3 veces (n_splits=5, n_repeats=3).\n",
        "*   Se realiza la validación cruzada K-fold repetida y se obtienen las puntuaciones de precisión para cada iteración.\n",
        "*   Se imprime la precisión para cada iteración y el promedio de todas las iteraciones.\n",
        "\n",
        "Ajusta los valores de n_splits y n_repeats según tus necesidades específicas."
      ],
      "metadata": {
        "id": "J_bmAecKKCqv"
      }
    },
    {
      "cell_type": "code",
      "source": [
        "from sklearn.model_selection import RepeatedKFold\n",
        "from sklearn.model_selection import cross_val_score\n",
        "from sklearn import datasets\n",
        "from sklearn import svm\n",
        "\n",
        "# Cargar un conjunto de datos de ejemplo (iris dataset en este caso)\n",
        "iris = datasets.load_iris()\n",
        "X = iris.data\n",
        "y = iris.target\n",
        "\n",
        "# Crear un clasificador SVM (Support Vector Machine)\n",
        "clf = svm.SVC(kernel='linear', C=1)\n",
        "\n",
        "# Especificar la estrategia de validación cruzada K-fold repetida (K=5, n_repeats=3 en este caso)\n",
        "repeated_kfold = RepeatedKFold(n_splits=5, n_repeats=3, random_state=42)\n",
        "\n",
        "# Realizar validación cruzada K-fold repetida y obtener los resultados de la métrica deseada (precisión en este caso)\n",
        "cross_val_results = cross_val_score(clf, X, y, cv=repeated_kfold, scoring='accuracy')\n",
        "\n",
        "# Imprimir los resultados de cada iteración y el resultado promedio\n",
        "for i, acc in enumerate(cross_val_results, 1):\n",
        "    print(f\"Iteración {i}: {acc:.4f}\")\n",
        "\n",
        "print(f\"\\nAccuracy promedio: {cross_val_results.mean():.4f}\")\n"
      ],
      "metadata": {
        "colab": {
          "base_uri": "https://localhost:8080/"
        },
        "id": "5X-Ss3GrKB8F",
        "outputId": "3e6aa9dc-ae48-4f3c-fee8-a04c9d94a06c"
      },
      "execution_count": 8,
      "outputs": [
        {
          "output_type": "stream",
          "name": "stdout",
          "text": [
            "Iteración 1: 1.0000\n",
            "Iteración 2: 1.0000\n",
            "Iteración 3: 0.9667\n",
            "Iteración 4: 0.9333\n",
            "Iteración 5: 0.9667\n",
            "Iteración 6: 1.0000\n",
            "Iteración 7: 1.0000\n",
            "Iteración 8: 0.9667\n",
            "Iteración 9: 1.0000\n",
            "Iteración 10: 0.9667\n",
            "Iteración 11: 0.9667\n",
            "Iteración 12: 0.9000\n",
            "Iteración 13: 1.0000\n",
            "Iteración 14: 1.0000\n",
            "Iteración 15: 1.0000\n",
            "\n",
            "Accuracy promedio: 0.9778\n"
          ]
        }
      ]
    },
    {
      "cell_type": "code",
      "source": [],
      "metadata": {
        "id": "nER4r0aBKkUr"
      },
      "execution_count": null,
      "outputs": []
    }
  ]
}